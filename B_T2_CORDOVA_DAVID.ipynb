{
  "nbformat": 4,
  "nbformat_minor": 0,
  "metadata": {
    "colab": {
      "provenance": [],
      "authorship_tag": "ABX9TyN8K7PxE/Im3G4g61AnbMto",
      "include_colab_link": true
    },
    "kernelspec": {
      "name": "python3",
      "display_name": "Python 3"
    },
    "language_info": {
      "name": "python"
    }
  },
  "cells": [
    {
      "cell_type": "markdown",
      "metadata": {
        "id": "view-in-github",
        "colab_type": "text"
      },
      "source": [
        "<a href=\"https://colab.research.google.com/github/alessitott/Hola-mundo/blob/main/B_T2_CORDOVA_DAVID.ipynb\" target=\"_parent\"><img src=\"https://colab.research.google.com/assets/colab-badge.svg\" alt=\"Open In Colab\"/></a>"
      ]
    },
    {
      "cell_type": "code",
      "execution_count": null,
      "metadata": {
        "colab": {
          "base_uri": "https://localhost:8080/"
        },
        "id": "2uoQRYNAfe3u",
        "outputId": "c72287e9-e3aa-41bd-ad9f-9aacfc360a8e"
      },
      "outputs": [
        {
          "output_type": "stream",
          "name": "stdout",
          "text": [
            "hola mundo\n"
          ]
        }
      ],
      "source": [
        "print(\"Hola mundo\")"
      ]
    },
    {
      "cell_type": "markdown",
      "source": [
        "•  Suma de dos números: Escribe un programa que pida al usuario dos números y los sume."
      ],
      "metadata": {
        "id": "XIYsWBqego6v"
      }
    },
    {
      "cell_type": "code",
      "source": [
        "a=int(input(\"Ingrese el primer numero: \"))\n",
        "b=int(input(\"Ingrese el segundo numero: \"))\n",
        "c=a+b\n",
        "print(c)"
      ],
      "metadata": {
        "colab": {
          "base_uri": "https://localhost:8080/"
        },
        "id": "O7q9p3r7gsD2",
        "outputId": "ca0451fd-1855-433e-858b-236417f91975"
      },
      "execution_count": null,
      "outputs": [
        {
          "output_type": "stream",
          "name": "stdout",
          "text": [
            "Ingrese el primer numero: 43\n",
            "Ingrese el segundo numero23\n",
            "66\n"
          ]
        }
      ]
    },
    {
      "cell_type": "markdown",
      "source": [
        "Par o Impar: Escribe un programa que determine si un número introducido por el usuario es par o impar."
      ],
      "metadata": {
        "id": "Tl21QOR-hBp0"
      }
    },
    {
      "cell_type": "code",
      "source": [
        "\n",
        "num= int(input(\"Ingrese un número: \"))\n",
        "if num % 2 == 0:\n",
        "  print(\"El número es par.\")\n",
        "else:\n",
        "  print(\"El número es impar.\")\n"
      ],
      "metadata": {
        "id": "5CmtpSv5hFQK"
      },
      "execution_count": null,
      "outputs": []
    },
    {
      "cell_type": "markdown",
      "source": [
        "Calculadora básica: Escribe un programa que realice operaciones básicas (suma, resta, multiplicación y división) entre dos números introducidos por el usuario.\n"
      ],
      "metadata": {
        "id": "l6PsAHs4hXCx"
      }
    },
    {
      "cell_type": "code",
      "source": [
        "\n",
        "print(\"Seleccione la operación a realizar:\")\n",
        "print(\"1. Suma\")\n",
        "print(\"2. Resta\")\n",
        "print(\"3. Multiplicación\")\n",
        "print(\"4. División\")\n",
        "\n",
        "opcion = int(input(\"Ingrese el número de la operación: \"))\n",
        "\n",
        "if opcion == 1: #Esta condicion es para suma\n",
        "  a = int(input(\"Ingrese el primer número: \"))\n",
        "  b = int(input(\"Ingrese el segundo número: \"))\n",
        "  c = a + b\n",
        "  print(\"El resultado es:\", c)\n",
        "elif opcion == 2: #Esta condicion es para resta\n",
        "  a = int(input(\"Ingrese el primer número: \"))\n",
        "  b = int(input(\"Ingrese el segundo número: \"))\n",
        "  c = a - b\n",
        "  print(\"El resultado es:\", c)\n",
        "elif opcion == 3: #Esta condicion es para multiplicacion\n",
        "  a = int(input(\"Ingrese el primer número: \"))\n",
        "  b = int(input(\"Ingrese el segundo número: \"))\n",
        "  c = a * b\n",
        "  print(\"El resultado es:\", c)\n",
        "elif opcion == 4: #Esta condicion es para division\n",
        "  a = int(input(\"Ingrese el primer número: \"))\n",
        "  b = int(input(\"Ingrese el segundo número: \"))\n",
        "  c = a / b\n",
        "  print(\"El resultado es:\", c)\n",
        "else:\n",
        "  print(\"Opción inválida.\")\n"
      ],
      "metadata": {
        "colab": {
          "base_uri": "https://localhost:8080/"
        },
        "id": "aEFezIA7ha7M",
        "outputId": "b8d93b64-ee88-484a-9def-f2d81a1f574e"
      },
      "execution_count": null,
      "outputs": [
        {
          "output_type": "stream",
          "name": "stdout",
          "text": [
            "Seleccione la operación a realizar:\n",
            "1. Suma\n",
            "2. Resta\n",
            "3. Multiplicación\n",
            "4. División\n",
            "Ingrese el número de la operación: 2\n",
            "Ingrese el primer número: 45\n",
            "Ingrese el segundo número: 23\n",
            "El resultado es: 22\n"
          ]
        }
      ]
    },
    {
      "cell_type": "markdown",
      "source": [
        "Número mayor: Escribe un programa que pida tres números al usuario y determine cuál es el mayor."
      ],
      "metadata": {
        "id": "Tkhz8ZB8htC8"
      }
    },
    {
      "cell_type": "code",
      "source": [
        "\n",
        "# Número mayor:\n",
        "num1 = int(input(\"Ingrese el primer número: \"))\n",
        "num2 = int(input(\"Ingrese el segundo número: \"))\n",
        "num3 = int(input(\"Ingrese el tercer número: \"))\n",
        "\n",
        "if num1 > num2 and num1 > num3:\n",
        "  print(\"El número mayor es:\", num1)\n",
        "elif num2 > num1 and num2 > num3:\n",
        "  print(\"El número mayor es:\", num2)\n",
        "else:\n",
        "  print(\"El número mayor es:\", num3)\n"
      ],
      "metadata": {
        "id": "qS4ZvNSchw8k"
      },
      "execution_count": null,
      "outputs": []
    },
    {
      "cell_type": "markdown",
      "source": [
        "Cálculo del área de un círculo: Escribe un programa que calcule el área de un círculo a partir de su radio, ingresado por el usuario."
      ],
      "metadata": {
        "id": "6OXmlTxciopu"
      }
    },
    {
      "cell_type": "code",
      "source": [
        "import math #Importamos el numero pi de una libreria\n",
        "simb= math.pi #lo asignamos a una variable\n",
        "num1=int(input(\"Ingrese el radio del circulo: \"))\n",
        "a=round((simb*num1**2),2) #Aqui hacemos la operacion matematica\n",
        "print(f\"El area del cuadrado es: {a}\")"
      ],
      "metadata": {
        "colab": {
          "base_uri": "https://localhost:8080/"
        },
        "id": "3EQIUmg8iuTU",
        "outputId": "1522f4f6-d9aa-4773-837e-521877787ea2"
      },
      "execution_count": null,
      "outputs": [
        {
          "output_type": "stream",
          "name": "stdout",
          "text": [
            "Ingrese el radio del circulo23\n",
            "El area del cuadrado es: 1661.9\n"
          ]
        }
      ]
    },
    {
      "cell_type": "code",
      "source": [],
      "metadata": {
        "id": "wzniHDpzjomm"
      },
      "execution_count": null,
      "outputs": []
    },
    {
      "cell_type": "markdown",
      "source": [
        "Conversión de grados Celsius a Fahrenheit: Escribe un programa que convierta una temperatura dada en grados Celsius a grados Fahrenheit."
      ],
      "metadata": {
        "id": "WnJsMbtnlTp5"
      }
    },
    {
      "cell_type": "code",
      "source": [
        "tmpC=int(input(\"Ingrese la temperatura en grados Celsius: \"))\n",
        "tmpF=round(tmpC*(9/5)+32)\n",
        "print(f\"La temperatura en Celsius ({tmpC}°C) en Fahrenheit es: {tmpF}°F\")\n"
      ],
      "metadata": {
        "colab": {
          "base_uri": "https://localhost:8080/"
        },
        "id": "OEEnIUn7lZA8",
        "outputId": "396c76fb-029e-4f19-c8fa-790753132551"
      },
      "execution_count": null,
      "outputs": [
        {
          "output_type": "stream",
          "name": "stdout",
          "text": [
            "Ingrese la temperatura en grados Celsius: 12\n",
            "La temperatura en Celsius (12°C) en Fahrenheit es: 54°F\n"
          ]
        }
      ]
    },
    {
      "cell_type": "markdown",
      "source": [
        "Cuenta atrás: Escribe un programa que cuente hacia atrás desde 10 hasta 0."
      ],
      "metadata": {
        "id": "a_qxSNK7mmtO"
      }
    },
    {
      "cell_type": "code",
      "source": [
        "for i in range(10, -1, -1):\n",
        "    print(i)\n"
      ],
      "metadata": {
        "colab": {
          "base_uri": "https://localhost:8080/"
        },
        "id": "_6Ai_ETsmq5P",
        "outputId": "87b6287c-5c61-42aa-a608-6ba1851ce4ce"
      },
      "execution_count": null,
      "outputs": [
        {
          "output_type": "stream",
          "name": "stdout",
          "text": [
            "10\n",
            "9\n",
            "8\n",
            "7\n",
            "6\n",
            "5\n",
            "4\n",
            "3\n",
            "2\n",
            "1\n",
            "0\n"
          ]
        }
      ]
    },
    {
      "cell_type": "markdown",
      "source": [
        "Tabla de multiplicar: Escribe un programa que muestre la tabla de multiplicar de un número introducido por el usuario."
      ],
      "metadata": {
        "id": "0Nv9bdUancIe"
      }
    },
    {
      "cell_type": "code",
      "source": [
        "num = int(input(\"Ingrese un numero para ver su tabla de multiplicar: \"))\n",
        "print (f\"Tabla de multiplicar del numero {num}\")\n",
        "for i in range(1,11):\n",
        "  print(f\"{num} * {i}= {num*i}\")"
      ],
      "metadata": {
        "colab": {
          "base_uri": "https://localhost:8080/"
        },
        "id": "clLCNO3rngR4",
        "outputId": "6898a1dc-a9b5-4932-b69c-4f5087c171a7"
      },
      "execution_count": null,
      "outputs": [
        {
          "output_type": "stream",
          "name": "stdout",
          "text": [
            "Ingrese un numero para ver su tabla de multiplicar: 12\n",
            "Tabla de multiplicar del numero 12\n",
            "12* 1= 12\n",
            "12* 2= 24\n",
            "12* 3= 36\n",
            "12* 4= 48\n",
            "12* 5= 60\n",
            "12* 6= 72\n",
            "12* 7= 84\n",
            "12* 8= 96\n",
            "12* 9= 108\n",
            "12* 10= 120\n"
          ]
        }
      ]
    },
    {
      "cell_type": "markdown",
      "source": [],
      "metadata": {
        "id": "HX5PyqNnr6mn"
      }
    },
    {
      "cell_type": "markdown",
      "source": [
        "Números primos: Escribe un programa que determine si un número introducido por el usuario es primo."
      ],
      "metadata": {
        "id": "nbR-j2kjoU7A"
      }
    },
    {
      "cell_type": "code",
      "source": [
        "def es_primo(numero):\n",
        "    if numero <= 1:\n",
        "        return False\n",
        "    for i in range(2, int(numero**0.5) + 1):\n",
        "        if numero % i == 0:\n",
        "            return False\n",
        "    return True\n",
        "\n",
        "# Prueba de la función con un número\n",
        "numero = int(input(\"Ingrese un numero: \"))\n",
        "if es_primo(numero):\n",
        "    print(f\"El número {numero} es primo.\")\n",
        "else:\n",
        "    print(f\"El número {numero} no es primo.\")"
      ],
      "metadata": {
        "colab": {
          "base_uri": "https://localhost:8080/"
        },
        "id": "g7Xm4ijfoYf_",
        "outputId": "c83d9813-8d1a-4070-f8a9-47d0b7e442e6"
      },
      "execution_count": null,
      "outputs": [
        {
          "output_type": "stream",
          "name": "stdout",
          "text": [
            "Ingrese un numero: 34\n",
            "El número 34 no es primo.\n"
          ]
        }
      ]
    },
    {
      "cell_type": "markdown",
      "source": [
        "Sumar números hasta un límite: Escribe un programa que sume todos los números naturales hasta un número límite introducido por el usuario."
      ],
      "metadata": {
        "id": "t1tMLAfJr7f8"
      }
    },
    {
      "cell_type": "code",
      "source": [
        "a=int(input(\"Ingrese el numero inicial: \"))\n",
        "b=int(input(\"Ingrese el numero final: \"))\n",
        "c=0\n",
        "for i in range(a,b+1):\n",
        "  c=c+i\n",
        "print(f\"La suma de los numeros naturales es: {c}\")"
      ],
      "metadata": {
        "colab": {
          "base_uri": "https://localhost:8080/"
        },
        "id": "M0xQZQCOr8ES",
        "outputId": "e1a8d452-39d4-4200-dd36-0f5f618a63cb"
      },
      "execution_count": null,
      "outputs": [
        {
          "output_type": "stream",
          "name": "stdout",
          "text": [
            "Ingrese el numero inicial: 1\n",
            "Ingrese el numero final: 23\n",
            "La suma de los numeros naturales es: 276\n"
          ]
        }
      ]
    },
    {
      "cell_type": "markdown",
      "source": [
        "Invertir una cadena: Escribe un programa que invierta una cadena introducida por el usuario.\n"
      ],
      "metadata": {
        "id": "5L8OPlsNtWQ-"
      }
    },
    {
      "cell_type": "markdown",
      "source": [],
      "metadata": {
        "id": "VQEMHnhStmtm"
      }
    },
    {
      "cell_type": "code",
      "source": [
        "cadena= input(\"Ingrese una frase: \")\n",
        "print(cadena[: :-1])"
      ],
      "metadata": {
        "colab": {
          "base_uri": "https://localhost:8080/"
        },
        "id": "Xd6Y84wGt5KT",
        "outputId": "2b80a326-760c-4480-ebe3-83068113837f"
      },
      "execution_count": null,
      "outputs": [
        {
          "output_type": "stream",
          "name": "stdout",
          "text": [
            "Ingrese una frase: hola gil\n",
            "lig aloh\n"
          ]
        }
      ]
    },
    {
      "cell_type": "markdown",
      "source": [
        "Contar vocales: Escribe un programa que cuente el número de vocales en una cadena introducida por el usuario."
      ],
      "metadata": {
        "id": "CsbhU3q3u8Gn"
      }
    },
    {
      "cell_type": "code",
      "source": [],
      "metadata": {
        "id": "6Gwk1CXZu89X"
      },
      "execution_count": null,
      "outputs": []
    }
  ]
}